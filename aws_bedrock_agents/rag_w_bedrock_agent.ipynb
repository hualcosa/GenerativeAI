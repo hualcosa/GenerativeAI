{
 "cells": [
  {
   "cell_type": "code",
   "execution_count": 2,
   "metadata": {
    "tags": []
   },
   "outputs": [],
   "source": [
    "import uuid\n",
    "import boto3\n",
    "import pprint\n",
    "import botocore\n",
    "import logging\n",
    "\n",
    "logging.basicConfig(format='[%(asctime)s] p%(process)s {%(filename)s:%(lineno)d} %(levelname)s - %(message)s', level=logging.INFO)\n",
    "logger = logging.getLogger(__name__)\n"
   ]
  },
  {
   "cell_type": "code",
   "execution_count": 7,
   "metadata": {
    "tags": []
   },
   "outputs": [],
   "source": [
    "# global constants\n",
    "ENDPOINT_URL: str = None\n"
   ]
  },
  {
   "cell_type": "code",
   "execution_count": null,
   "metadata": {
    "tags": []
   },
   "outputs": [],
   "source": [
    "# you want to make sure that install sequence is as follows\n",
    "# %pip install boto3-1.28.54-py3-none-any.whl\n",
    "# %pip install botocore-1.31.54-py3-none-any.whl\n",
    "# %pip install awscli-1.29.54-py3-none-any.whl\n",
    "\n",
    "# exit out if the Boto3 (Python) SDK versions are not correct\n",
    "assert boto3.__version__ == \"1.28.73\"\n",
    "assert botocore.__version__ == \"1.31.73\"\n"
   ]
  },
  {
   "cell_type": "code",
   "execution_count": 8,
   "metadata": {
    "tags": []
   },
   "outputs": [],
   "source": [
    "input_text:str = \"What are the XGBoost versions supported in Amazon SageMaker?\" # replace this with a prompt relevant to your agent\n",
    "agent_id:str = 'WOSQXZH6WD' # note this from the agent console on Bedrock\n",
    "agent_alias_id:str = 'MEF1YZ6SIB' # fixed for draft version of the agent\n",
    "session_id:str = str(uuid.uuid1()) # random identifier\n",
    "enable_trace:bool = True\n"
   ]
  },
  {
   "cell_type": "code",
   "execution_count": 12,
   "metadata": {
    "tags": []
   },
   "outputs": [
    {
     "name": "stderr",
     "output_type": "stream",
     "text": [
      "[2024-07-06 20:03:13,221] p15839 {273891072.py:3} INFO - <botocore.client.AgentsforBedrockRuntime object at 0x7f5bf4b433d0>\n"
     ]
    }
   ],
   "source": [
    "# create an boto3 bedrock agent client\n",
    "client = boto3.client(\"bedrock-agent-runtime\")\n",
    "logger.info(client)\n"
   ]
  },
  {
   "cell_type": "code",
   "execution_count": 13,
   "metadata": {
    "tags": []
   },
   "outputs": [
    {
     "name": "stderr",
     "output_type": "stream",
     "text": [
      "[2024-07-06 20:03:14,148] p15839 {4226590062.py:9} INFO - None\n"
     ]
    },
    {
     "name": "stdout",
     "output_type": "stream",
     "text": [
      "{'ResponseMetadata': {'HTTPHeaders': {'connection': 'keep-alive',\n",
      "                                      'content-type': 'application/json',\n",
      "                                      'date': 'Sat, 06 Jul 2024 20:03:14 GMT',\n",
      "                                      'transfer-encoding': 'chunked',\n",
      "                                      'x-amz-bedrock-agent-session-id': '8fe82702-3bd2-11ef-a3c5-0afff4e8c80d',\n",
      "                                      'x-amzn-bedrock-agent-content-type': 'application/json',\n",
      "                                      'x-amzn-requestid': '03f257bb-beb4-40a9-a90d-d69443c24da0'},\n",
      "                      'HTTPStatusCode': 200,\n",
      "                      'RequestId': '03f257bb-beb4-40a9-a90d-d69443c24da0',\n",
      "                      'RetryAttempts': 0},\n",
      " 'completion': <botocore.eventstream.EventStream object at 0x7f5c04027850>,\n",
      " 'contentType': 'application/json',\n",
      " 'sessionId': '8fe82702-3bd2-11ef-a3c5-0afff4e8c80d'}\n"
     ]
    }
   ],
   "source": [
    "# invoke the agent API\n",
    "response = client.invoke_agent(inputText=input_text,\n",
    "    agentId=agent_id,\n",
    "    agentAliasId=agent_alias_id,\n",
    "    sessionId=session_id,\n",
    "    enableTrace=enable_trace\n",
    ")\n",
    "\n",
    "logger.info(pprint.pprint(response))\n"
   ]
  },
  {
   "cell_type": "code",
   "execution_count": 11,
   "metadata": {
    "tags": []
   },
   "outputs": [
    {
     "name": "stderr",
     "output_type": "stream",
     "text": [
      "[2024-07-06 20:02:24,906] p15839 {<timed exec>:11} INFO - {\n",
      "  \"agentAliasId\": \"MEF1YZ6SIB\",\n",
      "  \"agentId\": \"WOSQXZH6WD\",\n",
      "  \"agentVersion\": \"1\",\n",
      "  \"sessionId\": \"8fe82702-3bd2-11ef-a3c5-0afff4e8c80d\",\n",
      "  \"trace\": {\n",
      "    \"orchestrationTrace\": {\n",
      "      \"rationale\": {\n",
      "        \"text\": \"\",\n",
      "        \"traceId\": \"012146a9-0e32-4f5f-aef2-3c2de5d43e18-0\"\n",
      "      }\n",
      "    }\n",
      "  }\n",
      "}\n",
      "[2024-07-06 20:02:24,907] p15839 {<timed exec>:11} INFO - {\n",
      "  \"agentAliasId\": \"MEF1YZ6SIB\",\n",
      "  \"agentId\": \"WOSQXZH6WD\",\n",
      "  \"agentVersion\": \"1\",\n",
      "  \"sessionId\": \"8fe82702-3bd2-11ef-a3c5-0afff4e8c80d\",\n",
      "  \"trace\": {\n",
      "    \"orchestrationTrace\": {\n",
      "      \"invocationInput\": {\n",
      "        \"invocationType\": \"KNOWLEDGE_BASE\",\n",
      "        \"knowledgeBaseLookupInput\": {\n",
      "          \"knowledgeBaseId\": \"BAZR84ZGHA\",\n",
      "          \"text\": \"What are the XGBoost versions supported in Amazon SageMaker?\"\n",
      "        },\n",
      "        \"traceId\": \"012146a9-0e32-4f5f-aef2-3c2de5d43e18-0\"\n",
      "      }\n",
      "    }\n",
      "  }\n",
      "}\n",
      "[2024-07-06 20:02:24,909] p15839 {<timed exec>:11} INFO - {\n",
      "  \"agentAliasId\": \"MEF1YZ6SIB\",\n",
      "  \"agentId\": \"WOSQXZH6WD\",\n",
      "  \"agentVersion\": \"1\",\n",
      "  \"sessionId\": \"8fe82702-3bd2-11ef-a3c5-0afff4e8c80d\",\n",
      "  \"trace\": {\n",
      "    \"orchestrationTrace\": {\n",
      "      \"observation\": {\n",
      "        \"knowledgeBaseLookupOutput\": {\n",
      "          \"retrievedReferences\": [\n",
      "            {\n",
      "              \"content\": {\n",
      "                \"text\": \"Multi-model endpoints are supported in SageMaker XGBoost versions 0.90-2, 1.0-1, and later. For information about using multiple XGBoost models with multi-model endpoints, see Host Multiple Models with Multi-Model Endpoints in the AWS documentation. For a sample notebook that uses Amazon SageMaker to deploy multiple XGBoost models to an endpoint, see the Multi-Model Endpoint XGBoost Sample Notebook.             SageMaker XGBoost Classes\\u00b6   For information about the SageMaker Python SDK XGBoost classes, see the following topics:   \\tsagemaker.xgboost.estimator.XGBoost   \\tsagemaker.xgboost.model.XGBoostModel   \\tsagemaker.xgboost.model.XGBoostPredictor   \\tsagemaker.xgboost.processing.XGBoostProcessor          SageMaker XGBoost Docker Containers\\u00b6   For information about SageMaker XGBoost Docker container and its dependencies, see SageMaker XGBoost Container.                                                                                    Next                         Previous                                                  \\u00a9 Copyright 2023, Amazon                         Revision af4d7949.                                        Built with Sphinx using a          theme          provided by Read the Docs.                                                        Read the Docs       v: stable\"\n",
      "              },\n",
      "              \"location\": {\n",
      "                \"s3Location\": {\n",
      "                  \"uri\": \"s3://sagemaker-kb-992382836107/sagemaker.readthedocs.io_en_stable_frameworks_xgboost_using_xgboost.html\"\n",
      "                },\n",
      "                \"type\": \"S3\"\n",
      "              }\n",
      "            },\n",
      "            {\n",
      "              \"content\": {\n",
      "                \"text\": \"Flexibility - Take advantage of the full range of XGBoost functionality, such as cross-validation support. You can add custom pre- and post-processing logic and run additional code after training.   \\tScalability - The XGBoost open source algorithm has a more efficient implementation of distributed training, which enables it to scale out to more instances and reduce out-of-memory errors.   \\tExtensibility - Because the open source XGBoost container is open source, you can extend the container to install additional libraries and change the version of XGBoost that the container uses. For an example notebook that shows how to extend SageMaker containers, see Extending our PyTorch containers.       Use XGBoost as a Built-in Algortihm\\u00b6   Amazon SageMaker provides XGBoost as a built-in algorithm that you can use like other built-in algorithms. Using the built-in algorithm version of XGBoost is simpler than using the open source version, because you don\\u2019t have to write a training script. If you don\\u2019t need the features and flexibility of open source XGBoost, consider using the built-in version. For information about using the Amazon SageMaker XGBoost built-in algorithm, see XGBoost Algorithm in the Amazon SageMaker Developer Guide.       Use the Open Source XGBoost Algorithm\\u00b6   If you want the flexibility and additional features that it provides, use the SageMaker open source XGBoost algorithm.   For which XGBoost versions are supported, see the AWS documentation.\"\n",
      "              },\n",
      "              \"location\": {\n",
      "                \"s3Location\": {\n",
      "                  \"uri\": \"s3://sagemaker-kb-992382836107/sagemaker.readthedocs.io_en_stable_frameworks_xgboost_using_xgboost.html\"\n",
      "                },\n",
      "                \"type\": \"S3\"\n",
      "              }\n",
      "            },\n",
      "            {\n",
      "              \"content\": {\n",
      "                \"text\": \"Serve a Model   \\tProcess Input   \\tGet Predictions   \\tProcess Output           \\tBring Your Own Model   \\tWrite an Inference Script   \\tCreate an XGBoostModel Object       \\tHost Multiple Models with Multi-Model Endpoints           \\tSageMaker XGBoost Classes   \\tSageMaker XGBoost Docker Containers             eXtreme Gradient Boosting (XGBoost) is a popular and efficient machine learning algorithm used for regression and classification tasks on tabular datasets. It implements a technique known as gradient boosting on trees, which performs remarkably well in machine learning competitions.   Amazon SageMaker supports two ways to use the XGBoost algorithm:    \\tXGBoost built-in algorithm   \\tXGBoost open source algorithm           The XGBoost open source algorithm provides the following benefits over the built-in algorithm:   \\tLatest version - The open source XGBoost algorithm typically supports a more recent version of XGBoost. To see the XGBoost version that is currently supported, see XGBoost SageMaker Estimators and Models.   \\tFlexibility - Take advantage of the full range of XGBoost functionality, such as cross-validation support. You can add custom pre- and post-processing logic and run additional code after training.\"\n",
      "              },\n",
      "              \"location\": {\n",
      "                \"s3Location\": {\n",
      "                  \"uri\": \"s3://sagemaker-kb-992382836107/sagemaker.readthedocs.io_en_stable_frameworks_xgboost_using_xgboost.html\"\n",
      "                },\n",
      "                \"type\": \"S3\"\n",
      "              }\n",
      "            },\n",
      "            {\n",
      "              \"content\": {\n",
      "                \"text\": \"sagemaker                                                                                                                     stable                                                                                                               Filters:                Example               Dev Guide               SDK Guide                                                                                                                                                                       \\tUsing the SageMaker Python SDK \\tUse Version 2.x of the SageMaker Python SDK    \\tAPIs    \\tFrameworks    \\tBuilt-in Algorithms\\tAmazon Estimators \\tTabular\\tAutoGluon \\tCatBoost \\tFactorization Machines \\tK-Nearest Neighbors \\tLightGBM \\tLinearLearner \\tTabTransformer \\tXGBoost     \\tText \\tTime-series \\tUnsupervised \\tVision        \\tWorkflows    \\tAmazon SageMaker Experiments    \\tAmazon SageMaker Debugger    \\tAmazon SageMaker Feature Store    \\tAmazon SageMaker Model Monitor    \\tAmazon SageMaker Processing    \\tAmazon SageMaker Model Building Pipeline                                                                                                                  sagemaker                                                                                   \\t \\u00bb \\tBuilt-in Algorithms \\u00bb \\tTabular \\u00bb \\tXGBoost \\t                                                   Edit on GitHub                                                                                               XGBoost\\u00b6   The XGBoost (eXtreme Gradient Boosting) is a popular\"\n",
      "              },\n",
      "              \"location\": {\n",
      "                \"s3Location\": {\n",
      "                  \"uri\": \"s3://sagemaker-kb-992382836107/sagemaker.readthedocs.io_en_stable_algorithms_tabular_xgboost.html\"\n",
      "                },\n",
      "                \"type\": \"S3\"\n",
      "              }\n",
      "            },\n",
      "            {\n",
      "              \"content\": {\n",
      "                \"text\": \"Algorithms    \\tWorkflows    \\tAmazon SageMaker Experiments    \\tAmazon SageMaker Debugger    \\tAmazon SageMaker Feature Store    \\tAmazon SageMaker Model Monitor    \\tAmazon SageMaker Processing    \\tAmazon SageMaker Model Building Pipeline                                                                                                                  sagemaker                                                                                   \\t \\u00bb \\tFrameworks \\u00bb \\tXGBoost \\u00bb \\tUse XGBoost with the SageMaker Python SDK \\t                                                   Edit on GitHub                                                                                               Use XGBoost with the SageMaker Python SDK\\u00b6    Contents   \\tUse XGBoost with the SageMaker Python SDK   \\tUse XGBoost as a Built-in Algortihm   \\tUse the Open Source XGBoost Algorithm   \\tTrain a Model with Open Source XGBoost   \\tPrepare a Training Script   \\tCreate an Estimator   \\tCall the fit Method       \\tDeploy Open Source XGBoost Models   \\tSageMaker XGBoost Model Server   \\tLoad a Model   \\tServe a Model   \\tProcess Input   \\tGet Predictions   \\tProcess Output           \\tBring Your Own Model   \\tWrite an Inference Script   \\tCreate an XGBoostModel Object       \\tHost Multiple Models with\"\n",
      "              },\n",
      "              \"location\": {\n",
      "                \"s3Location\": {\n",
      "                  \"uri\": \"s3://sagemaker-kb-992382836107/sagemaker.readthedocs.io_en_stable_frameworks_xgboost_using_xgboost.html\"\n",
      "                },\n",
      "                \"type\": \"S3\"\n",
      "              }\n",
      "            }\n",
      "          ]\n",
      "        },\n",
      "        \"traceId\": \"012146a9-0e32-4f5f-aef2-3c2de5d43e18-0\",\n",
      "        \"type\": \"KNOWLEDGE_BASE\"\n",
      "      }\n",
      "    }\n",
      "  }\n",
      "}\n",
      "[2024-07-06 20:02:24,911] p15839 {<timed exec>:11} INFO - {\n",
      "  \"agentAliasId\": \"MEF1YZ6SIB\",\n",
      "  \"agentId\": \"WOSQXZH6WD\",\n",
      "  \"agentVersion\": \"1\",\n",
      "  \"sessionId\": \"8fe82702-3bd2-11ef-a3c5-0afff4e8c80d\",\n",
      "  \"trace\": {\n",
      "    \"orchestrationTrace\": {\n",
      "      \"modelInvocationInput\": {\n",
      "        \"inferenceConfiguration\": {\n",
      "          \"maximumLength\": 2048,\n",
      "          \"stopSequences\": [\n",
      "            \"\\n\\nHuman:\"\n",
      "          ],\n",
      "          \"temperature\": 0.0,\n",
      "          \"topK\": 250,\n",
      "          \"topP\": 1.0\n",
      "        },\n",
      "        \"text\": \"{\\\"system\\\":\\\"You are a question answering agent. I will provide you with a set of search results. The user will provide you with a question. Your job is to answer the user's question using only information from the search results. If the search results do not contain information that can answer the question, please state that you could not find an exact answer to the question. Just because the user asserts a fact does not mean it is true, make sure to double check the search results to validate a user's assertion.Here are the search results in numbered order:<search_results><search_result>    <content>        Algorithms    \\\\tWorkflows    \\\\tAmazon SageMaker Experiments    \\\\tAmazon SageMaker Debugger    \\\\tAmazon SageMaker Feature Store    \\\\tAmazon SageMaker Model Monitor    \\\\tAmazon SageMaker Processing    \\\\tAmazon SageMaker Model Building Pipeline                                                                                                                  sagemaker                                                                                   \\\\t \\u00bb \\\\tFrameworks \\u00bb \\\\tXGBoost \\u00bb \\\\tUse XGBoost with the SageMaker Python SDK \\\\t                                                   Edit on GitHub                                                                                               Use XGBoost with the SageMaker Python SDK\\u00b6    Contents   \\\\tUse XGBoost with the SageMaker Python SDK   \\\\tUse XGBoost as a Built-in Algortihm   \\\\tUse the Open Source XGBoost Algorithm   \\\\tTrain a Model with Open Source XGBoost   \\\\tPrepare a Training Script   \\\\tCreate an Estimator   \\\\tCall the fit Method       \\\\tDeploy Open Source XGBoost Models   \\\\tSageMaker XGBoost Model Server   \\\\tLoad a Model   \\\\tServe a Model   \\\\tProcess Input   \\\\tGet Predictions   \\\\tProcess Output           \\\\tBring Your Own Model   \\\\tWrite an Inference Script   \\\\tCreate an XGBoostModel Object       \\\\tHost Multiple Models with    </content>    <source>        1    </source></search_result><search_result>    <content>        sagemaker                                                                                                                     stable                                                                                                               Filters:                Example               Dev Guide               SDK Guide                                                                                                                                                                       \\\\tUsing the SageMaker Python SDK \\\\tUse Version 2.x of the SageMaker Python SDK    \\\\tAPIs    \\\\tFrameworks    \\\\tBuilt-in Algorithms\\\\tAmazon Estimators \\\\tTabular\\\\tAutoGluon \\\\tCatBoost \\\\tFactorization Machines \\\\tK-Nearest Neighbors \\\\tLightGBM \\\\tLinearLearner \\\\tTabTransformer \\\\tXGBoost     \\\\tText \\\\tTime-series \\\\tUnsupervised \\\\tVision        \\\\tWorkflows    \\\\tAmazon SageMaker Experiments    \\\\tAmazon SageMaker Debugger    \\\\tAmazon SageMaker Feature Store    \\\\tAmazon SageMaker Model Monitor    \\\\tAmazon SageMaker Processing    \\\\tAmazon SageMaker Model Building Pipeline                                                                                                                  sagemaker                                                                                   \\\\t \\u00bb \\\\tBuilt-in Algorithms \\u00bb \\\\tTabular \\u00bb \\\\tXGBoost \\\\t                                                   Edit on GitHub                                                                                               XGBoost\\u00b6   The XGBoost (eXtreme Gradient Boosting) is a popular    </content>    <source>        2    </source></search_result><search_result>    <content>        Serve a Model   \\\\tProcess Input   \\\\tGet Predictions   \\\\tProcess Output           \\\\tBring Your Own Model   \\\\tWrite an Inference Script   \\\\tCreate an XGBoostModel Object       \\\\tHost Multiple Models with Multi-Model Endpoints           \\\\tSageMaker XGBoost Classes   \\\\tSageMaker XGBoost Docker Containers             eXtreme Gradient Boosting (XGBoost) is a popular and efficient machine learning algorithm used for regression and classification tasks on tabular datasets. It implements a technique known as gradient boosting on trees, which performs remarkably well in machine learning competitions.   Amazon SageMaker supports two ways to use the XGBoost algorithm:    \\\\tXGBoost built-in algorithm   \\\\tXGBoost open source algorithm           The XGBoost open source algorithm provides the following benefits over the built-in algorithm:   \\\\tLatest version - The open source XGBoost algorithm typically supports a more recent version of XGBoost. To see the XGBoost version that is currently supported, see XGBoost SageMaker Estimators and Models.   \\\\tFlexibility - Take advantage of the full range of XGBoost functionality, such as cross-validation support. You can add custom pre- and post-processing logic and run additional code after training.    </content>    <source>        3    </source></search_result><search_result>    <content>        Flexibility - Take advantage of the full range of XGBoost functionality, such as cross-validation support. You can add custom pre- and post-processing logic and run additional code after training.   \\\\tScalability - The XGBoost open source algorithm has a more efficient implementation of distributed training, which enables it to scale out to more instances and reduce out-of-memory errors.   \\\\tExtensibility - Because the open source XGBoost container is open source, you can extend the container to install additional libraries and change the version of XGBoost that the container uses. For an example notebook that shows how to extend SageMaker containers, see Extending our PyTorch containers.       Use XGBoost as a Built-in Algortihm\\u00b6   Amazon SageMaker provides XGBoost as a built-in algorithm that you can use like other built-in algorithms. Using the built-in algorithm version of XGBoost is simpler than using the open source version, because you don\\\\u2019t have to write a training script. If you don\\\\u2019t need the features and flexibility of open source XGBoost, consider using the built-in version. For information about using the Amazon SageMaker XGBoost built-in algorithm, see XGBoost Algorithm in the Amazon SageMaker Developer Guide.       Use the Open Source XGBoost Algorithm\\u00b6   If you want the flexibility and additional features that it provides, use the SageMaker open source XGBoost algorithm.   For which XGBoost versions are supported, see the AWS documentation.    </content>    <source>        4    </source></search_result><search_result>    <content>        Multi-model endpoints are supported in SageMaker XGBoost versions 0.90-2, 1.0-1, and later. For information about using multiple XGBoost models with multi-model endpoints, see Host Multiple Models with Multi-Model Endpoints in the AWS documentation. For a sample notebook that uses Amazon SageMaker to deploy multiple XGBoost models to an endpoint, see the Multi-Model Endpoint XGBoost Sample Notebook.             SageMaker XGBoost Classes\\u00b6   For information about the SageMaker Python SDK XGBoost classes, see the following topics:   \\\\tsagemaker.xgboost.estimator.XGBoost   \\\\tsagemaker.xgboost.model.XGBoostModel   \\\\tsagemaker.xgboost.model.XGBoostPredictor   \\\\tsagemaker.xgboost.processing.XGBoostProcessor          SageMaker XGBoost Docker Containers\\u00b6   For information about SageMaker XGBoost Docker container and its dependencies, see SageMaker XGBoost Container.                                                                                    Next                         Previous                                                  \\u00a9 Copyright 2023, Amazon                         Revision af4d7949.                                        Built with Sphinx using a          theme          provided by Read the Docs.                                                        Read the Docs       v: stable    </content>    <source>        5    </source></search_result></search_results>If you reference information from a search result within your answer, you must include a citation to source where the information was found. Each result has a corresponding source ID that you should reference.Note that <sources> may contain multiple <source> if you include information from multiple results in your answer.Do NOT directly quote the <search_results> in your answer. Your job is to answer the user's question as concisely as possible.You must output your answer in the following format. Pay attention and follow the formatting and spacing exactly:<answer><answer_part><text>first answer text</text><sources><source>source ID</source></sources></answer_part><answer_part><text>second answer text</text><sources><source>source ID</source></sources></answer_part></answer>\\\",\\\"messages\\\":[{\\\"content\\\":\\\"What are the XGBoost versions supported in Amazon SageMaker?\\\",\\\"role\\\":\\\"user\\\"}]}\",\n",
      "        \"traceId\": \"012146a9-0e32-4f5f-aef2-3c2de5d43e18-KB-0\",\n",
      "        \"type\": \"KNOWLEDGE_BASE_RESPONSE_GENERATION\"\n",
      "      }\n",
      "    }\n",
      "  }\n",
      "}\n",
      "[2024-07-06 20:02:24,912] p15839 {<timed exec>:11} INFO - {\n",
      "  \"agentAliasId\": \"MEF1YZ6SIB\",\n",
      "  \"agentId\": \"WOSQXZH6WD\",\n",
      "  \"agentVersion\": \"1\",\n",
      "  \"sessionId\": \"8fe82702-3bd2-11ef-a3c5-0afff4e8c80d\",\n",
      "  \"trace\": {\n",
      "    \"orchestrationTrace\": {\n",
      "      \"observation\": {\n",
      "        \"finalResponse\": {\n",
      "          \"text\": \"According to the search results, the XGBoost versions supported in Amazon SageMaker are:\\n- XGBoost versions 0.90-2, 1.0-1, and later are supported for multi-model endpoints.\\n- For the latest version of XGBoost supported, you can check the AWS documentation.\"\n",
      "        },\n",
      "        \"traceId\": \"012146a9-0e32-4f5f-aef2-3c2de5d43e18-1\",\n",
      "        \"type\": \"FINISH\"\n",
      "      }\n",
      "    }\n",
      "  }\n",
      "}\n",
      "[2024-07-06 20:02:24,913] p15839 {<timed exec>:7} INFO - Final answer ->\n",
      "According to the search results, the XGBoost versions supported in Amazon SageMaker are:\n",
      "- XGBoost versions 0.90-2, 1.0-1, and later are supported for multi-model endpoints.\n",
      "- For the latest version of XGBoost supported, you can check the AWS documentation.\n"
     ]
    },
    {
     "name": "stdout",
     "output_type": "stream",
     "text": [
      "CPU times: user 7.77 ms, sys: 4 ms, total: 11.8 ms\n",
      "Wall time: 10.1 ms\n"
     ]
    }
   ],
   "source": [
    "%%time\n",
    "import json\n",
    "event_stream = response['completion']\n",
    "try:\n",
    "    for event in event_stream:        \n",
    "        if 'chunk' in event:\n",
    "            data = event['chunk']['bytes']\n",
    "            logger.info(f\"Final answer ->\\n{data.decode('utf8')}\") \n",
    "            end_event_received = True\n",
    "            # End event indicates that the request finished successfully\n",
    "        elif 'trace' in event:\n",
    "            logger.info(json.dumps(event['trace'], indent=2))\n",
    "        else:\n",
    "            raise Exception(\"unexpected event.\", event)\n",
    "except Exception as e:\n",
    "    raise Exception(\"unexpected event.\", e)\n"
   ]
  },
  {
   "cell_type": "code",
   "execution_count": null,
   "metadata": {},
   "outputs": [],
   "source": []
  }
 ],
 "metadata": {
  "kernelspec": {
   "display_name": "conda_bedrock_py39",
   "language": "python",
   "name": "conda_bedrock_py39"
  },
  "language_info": {
   "codemirror_mode": {
    "name": "ipython",
    "version": 3
   },
   "file_extension": ".py",
   "mimetype": "text/x-python",
   "name": "python",
   "nbconvert_exporter": "python",
   "pygments_lexer": "ipython3",
   "version": "3.9.19"
  }
 },
 "nbformat": 4,
 "nbformat_minor": 4
}
